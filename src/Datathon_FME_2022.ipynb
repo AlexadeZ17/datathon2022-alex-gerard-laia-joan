{
  "nbformat": 4,
  "nbformat_minor": 0,
  "metadata": {
    "colab": {
      "provenance": [],
      "include_colab_link": true
    },
    "kernelspec": {
      "name": "python3",
      "display_name": "Python 3"
    },
    "language_info": {
      "name": "python"
    }
  },
  "cells": [
    {
      "cell_type": "markdown",
      "metadata": {
        "id": "view-in-github",
        "colab_type": "text"
      },
      "source": [
        "<a href=\"https://colab.research.google.com/github/AlexadeZ17/datathon2022-alex-gerard-laia-joan/blob/master/src/Datathon_FME_2022.ipynb\" target=\"_parent\"><img src=\"https://colab.research.google.com/assets/colab-badge.svg\" alt=\"Open In Colab\"/></a>"
      ]
    },
    {
      "cell_type": "markdown",
      "source": [
        "Datathon FME 2022"
      ],
      "metadata": {
        "id": "ClpN0LAPX4zM"
      }
    },
    {
      "cell_type": "code",
      "execution_count": null,
      "metadata": {
        "id": "dK5idRm1W5LL"
      },
      "outputs": [],
      "source": []
    },
    {
      "cell_type": "markdown",
      "source": [
        "Idees iaios actuals\n",
        "- Furgoneta per tractar iaios\n",
        "\n",
        "Idees iaios futurs"
      ],
      "metadata": {
        "id": "GAjwsBiOYlXq"
      }
    }
  ]
}
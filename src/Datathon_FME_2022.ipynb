{
 "cells": [
  {
   "cell_type": "markdown",
   "metadata": {
    "id": "ClpN0LAPX4zM"
   },
   "source": [
    "Datathon FME 2022"
   ]
  },
  {
   "cell_type": "code",
   "execution_count": 149,
   "metadata": {
    "id": "OkyM5wzrbqgW"
   },
   "outputs": [],
   "source": [
    "import pandas as pd\n",
    "import numpy as np\n",
    "import math"
   ]
  },
  {
   "cell_type": "code",
   "execution_count": 150,
   "metadata": {
    "id": "AfyF2hU2cBv3"
   },
   "outputs": [],
   "source": [
    "df_cities = pd.read_csv(r\"C:\\Users\\Álex\\Documents\\Datathon\\data\\datathonfme2022-main\\datathonfme2022-main\\accenture_challenge\\datathon_SC_ACN_22\\cities_data.csv\", sep=\";\", encoding=\"UTF-8\")\n",
    "df_orders = pd.read_csv(r\"C:\\Users\\Álex\\Documents\\Datathon\\data\\datathonfme2022-main\\datathonfme2022-main\\accenture_challenge\\datathon_SC_ACN_22\\orders.csv\", sep=\";\", encoding=\"UTF-8\")"
   ]
  },
  {
   "cell_type": "code",
   "execution_count": 151,
   "metadata": {},
   "outputs": [
    {
     "data": {
      "text/html": [
       "<div>\n",
       "<style scoped>\n",
       "    .dataframe tbody tr th:only-of-type {\n",
       "        vertical-align: middle;\n",
       "    }\n",
       "\n",
       "    .dataframe tbody tr th {\n",
       "        vertical-align: top;\n",
       "    }\n",
       "\n",
       "    .dataframe thead th {\n",
       "        text-align: right;\n",
       "    }\n",
       "</style>\n",
       "<table border=\"1\" class=\"dataframe\">\n",
       "  <thead>\n",
       "    <tr style=\"text-align: right;\">\n",
       "      <th></th>\n",
       "      <th>city_from_name</th>\n",
       "      <th>city_to_name</th>\n",
       "      <th>city_from_coord</th>\n",
       "      <th>city_to_coord</th>\n",
       "      <th>distance</th>\n",
       "    </tr>\n",
       "  </thead>\n",
       "  <tbody>\n",
       "    <tr>\n",
       "      <th>0</th>\n",
       "      <td>Dusseldorf</td>\n",
       "      <td>Zaragoza</td>\n",
       "      <td>(51.2254018, 6.7763137)</td>\n",
       "      <td>(41.6521342, -0.8809428)</td>\n",
       "      <td>1214.4772</td>\n",
       "    </tr>\n",
       "    <tr>\n",
       "      <th>1</th>\n",
       "      <td>Dusseldorf</td>\n",
       "      <td>Venlo</td>\n",
       "      <td>(51.2254018, 6.7763137)</td>\n",
       "      <td>(51.39244885, 6.1511724144122955)</td>\n",
       "      <td>47.3876</td>\n",
       "    </tr>\n",
       "    <tr>\n",
       "      <th>2</th>\n",
       "      <td>Dusseldorf</td>\n",
       "      <td>Bratislava</td>\n",
       "      <td>(51.2254018, 6.7763137)</td>\n",
       "      <td>(48.1516988, 17.1093063)</td>\n",
       "      <td>819.2894</td>\n",
       "    </tr>\n",
       "    <tr>\n",
       "      <th>3</th>\n",
       "      <td>Dusseldorf</td>\n",
       "      <td>Hamburg</td>\n",
       "      <td>(51.2254018, 6.7763137)</td>\n",
       "      <td>(53.550341, 10.000654)</td>\n",
       "      <td>339.2215</td>\n",
       "    </tr>\n",
       "    <tr>\n",
       "      <th>4</th>\n",
       "      <td>Dusseldorf</td>\n",
       "      <td>Rome</td>\n",
       "      <td>(51.2254018, 6.7763137)</td>\n",
       "      <td>(41.8933203, 12.4829321)</td>\n",
       "      <td>1125.0290</td>\n",
       "    </tr>\n",
       "  </tbody>\n",
       "</table>\n",
       "</div>"
      ],
      "text/plain": [
       "  city_from_name city_to_name          city_from_coord  \\\n",
       "0     Dusseldorf     Zaragoza  (51.2254018, 6.7763137)   \n",
       "1     Dusseldorf        Venlo  (51.2254018, 6.7763137)   \n",
       "2     Dusseldorf   Bratislava  (51.2254018, 6.7763137)   \n",
       "3     Dusseldorf      Hamburg  (51.2254018, 6.7763137)   \n",
       "4     Dusseldorf         Rome  (51.2254018, 6.7763137)   \n",
       "\n",
       "                       city_to_coord   distance  \n",
       "0           (41.6521342, -0.8809428)  1214.4772  \n",
       "1  (51.39244885, 6.1511724144122955)    47.3876  \n",
       "2           (48.1516988, 17.1093063)   819.2894  \n",
       "3             (53.550341, 10.000654)   339.2215  \n",
       "4           (41.8933203, 12.4829321)  1125.0290  "
      ]
     },
     "execution_count": 151,
     "metadata": {},
     "output_type": "execute_result"
    }
   ],
   "source": [
    "df_cities.head()"
   ]
  },
  {
   "cell_type": "code",
   "execution_count": 152,
   "metadata": {},
   "outputs": [
    {
     "data": {
      "text/html": [
       "<div>\n",
       "<style scoped>\n",
       "    .dataframe tbody tr th:only-of-type {\n",
       "        vertical-align: middle;\n",
       "    }\n",
       "\n",
       "    .dataframe tbody tr th {\n",
       "        vertical-align: top;\n",
       "    }\n",
       "\n",
       "    .dataframe thead th {\n",
       "        text-align: right;\n",
       "    }\n",
       "</style>\n",
       "<table border=\"1\" class=\"dataframe\">\n",
       "  <thead>\n",
       "    <tr style=\"text-align: right;\">\n",
       "      <th></th>\n",
       "      <th>order_id</th>\n",
       "      <th>origin_port</th>\n",
       "      <th>3pl</th>\n",
       "      <th>customs_procedures</th>\n",
       "      <th>logistic_hub</th>\n",
       "      <th>customer</th>\n",
       "      <th>product_id</th>\n",
       "      <th>units</th>\n",
       "      <th>late_order</th>\n",
       "    </tr>\n",
       "  </thead>\n",
       "  <tbody>\n",
       "    <tr>\n",
       "      <th>0</th>\n",
       "      <td>366c7a3d298f</td>\n",
       "      <td>Rotterdam</td>\n",
       "      <td>v_002</td>\n",
       "      <td>DTP</td>\n",
       "      <td>Venlo</td>\n",
       "      <td>Marseille</td>\n",
       "      <td>1692723</td>\n",
       "      <td>583</td>\n",
       "      <td>True</td>\n",
       "    </tr>\n",
       "    <tr>\n",
       "      <th>1</th>\n",
       "      <td>45f906331e10</td>\n",
       "      <td>Rotterdam</td>\n",
       "      <td>v_004</td>\n",
       "      <td>CRF</td>\n",
       "      <td>Rome</td>\n",
       "      <td>Marseille</td>\n",
       "      <td>1644308</td>\n",
       "      <td>459</td>\n",
       "      <td>False</td>\n",
       "    </tr>\n",
       "    <tr>\n",
       "      <th>2</th>\n",
       "      <td>ac84a6e4af0f</td>\n",
       "      <td>Athens</td>\n",
       "      <td>v_002</td>\n",
       "      <td>CRF</td>\n",
       "      <td>Venlo</td>\n",
       "      <td>Paris</td>\n",
       "      <td>1684170</td>\n",
       "      <td>464</td>\n",
       "      <td>True</td>\n",
       "    </tr>\n",
       "    <tr>\n",
       "      <th>3</th>\n",
       "      <td>f5e98cb29790</td>\n",
       "      <td>Rotterdam</td>\n",
       "      <td>v_004</td>\n",
       "      <td>CRF</td>\n",
       "      <td>Lille</td>\n",
       "      <td>Milan</td>\n",
       "      <td>1620510</td>\n",
       "      <td>678</td>\n",
       "      <td>False</td>\n",
       "    </tr>\n",
       "    <tr>\n",
       "      <th>4</th>\n",
       "      <td>a9e7c9bee35b</td>\n",
       "      <td>Barcelona</td>\n",
       "      <td>v_002</td>\n",
       "      <td>CRF</td>\n",
       "      <td>Venlo</td>\n",
       "      <td>Berlin</td>\n",
       "      <td>1699372</td>\n",
       "      <td>353</td>\n",
       "      <td>False</td>\n",
       "    </tr>\n",
       "  </tbody>\n",
       "</table>\n",
       "</div>"
      ],
      "text/plain": [
       "       order_id origin_port    3pl customs_procedures logistic_hub   customer  \\\n",
       "0  366c7a3d298f   Rotterdam  v_002                DTP        Venlo  Marseille   \n",
       "1  45f906331e10   Rotterdam  v_004                CRF         Rome  Marseille   \n",
       "2  ac84a6e4af0f      Athens  v_002                CRF        Venlo      Paris   \n",
       "3  f5e98cb29790   Rotterdam  v_004                CRF        Lille      Milan   \n",
       "4  a9e7c9bee35b   Barcelona  v_002                CRF        Venlo     Berlin   \n",
       "\n",
       "   product_id  units  late_order  \n",
       "0     1692723    583        True  \n",
       "1     1644308    459       False  \n",
       "2     1684170    464        True  \n",
       "3     1620510    678       False  \n",
       "4     1699372    353       False  "
      ]
     },
     "execution_count": 152,
     "metadata": {},
     "output_type": "execute_result"
    }
   ],
   "source": [
    "df_orders.head()"
   ]
  },
  {
   "cell_type": "markdown",
   "metadata": {
    "id": "w7xV4Ohvh9j5"
   },
   "source": [
    "## Feature Engineering\n",
    "\n",
    "In this step we added some interesting features to the dataset such as the distance or the type of material being handled"
   ]
  },
  {
   "cell_type": "code",
   "execution_count": 153,
   "metadata": {},
   "outputs": [
    {
     "name": "stderr",
     "output_type": "stream",
     "text": [
      "C:\\Users\\Álex\\AppData\\Local\\Temp\\ipykernel_23520\\886607660.py:3: DeprecationWarning: The truth value of an empty array is ambiguous. Returning False, but in future this will result in an error. Use `array.size > 0` to check that an array is not empty.\n",
      "  dist = ((df_cities[(df_cities[\"city_from_name\"] == i[1]) & (df_cities[\"city_to_name\"] == i[4])][\"distance\"].values) or (df_cities[(df_cities[\"city_from_name\"] == i[4]) & (df_cities[\"city_to_name\"] == i[1])][\"distance\"].values))\n",
      "C:\\Users\\Álex\\AppData\\Local\\Temp\\ipykernel_23520\\886607660.py:4: DeprecationWarning: The truth value of an empty array is ambiguous. Returning False, but in future this will result in an error. Use `array.size > 0` to check that an array is not empty.\n",
      "  if (dist):\n"
     ]
    }
   ],
   "source": [
    "distances = []\n",
    "for i in df_orders.values:\n",
    "    dist = ((df_cities[(df_cities[\"city_from_name\"] == i[1]) & (df_cities[\"city_to_name\"] == i[4])][\"distance\"].values) or (df_cities[(df_cities[\"city_from_name\"] == i[4]) & (df_cities[\"city_to_name\"] == i[1])][\"distance\"].values))\n",
    "    if (dist):\n",
    "        distances.append(dist[0])\n",
    "    else:\n",
    "        distances.append(0)"
   ]
  },
  {
   "cell_type": "code",
   "execution_count": 154,
   "metadata": {},
   "outputs": [],
   "source": [
    "df_orders[\"dist_to_hub\"] = distances"
   ]
  },
  {
   "cell_type": "code",
   "execution_count": 155,
   "metadata": {},
   "outputs": [
    {
     "data": {
      "text/html": [
       "<div>\n",
       "<style scoped>\n",
       "    .dataframe tbody tr th:only-of-type {\n",
       "        vertical-align: middle;\n",
       "    }\n",
       "\n",
       "    .dataframe tbody tr th {\n",
       "        vertical-align: top;\n",
       "    }\n",
       "\n",
       "    .dataframe thead th {\n",
       "        text-align: right;\n",
       "    }\n",
       "</style>\n",
       "<table border=\"1\" class=\"dataframe\">\n",
       "  <thead>\n",
       "    <tr style=\"text-align: right;\">\n",
       "      <th></th>\n",
       "      <th>order_id</th>\n",
       "      <th>origin_port</th>\n",
       "      <th>3pl</th>\n",
       "      <th>customs_procedures</th>\n",
       "      <th>logistic_hub</th>\n",
       "      <th>customer</th>\n",
       "      <th>product_id</th>\n",
       "      <th>units</th>\n",
       "      <th>late_order</th>\n",
       "      <th>dist_to_hub</th>\n",
       "    </tr>\n",
       "  </thead>\n",
       "  <tbody>\n",
       "    <tr>\n",
       "      <th>0</th>\n",
       "      <td>366c7a3d298f</td>\n",
       "      <td>Rotterdam</td>\n",
       "      <td>v_002</td>\n",
       "      <td>DTP</td>\n",
       "      <td>Venlo</td>\n",
       "      <td>Marseille</td>\n",
       "      <td>1692723</td>\n",
       "      <td>583</td>\n",
       "      <td>True</td>\n",
       "      <td>130.0459</td>\n",
       "    </tr>\n",
       "    <tr>\n",
       "      <th>1</th>\n",
       "      <td>45f906331e10</td>\n",
       "      <td>Rotterdam</td>\n",
       "      <td>v_004</td>\n",
       "      <td>CRF</td>\n",
       "      <td>Rome</td>\n",
       "      <td>Marseille</td>\n",
       "      <td>1644308</td>\n",
       "      <td>459</td>\n",
       "      <td>False</td>\n",
       "      <td>1269.2365</td>\n",
       "    </tr>\n",
       "    <tr>\n",
       "      <th>2</th>\n",
       "      <td>ac84a6e4af0f</td>\n",
       "      <td>Athens</td>\n",
       "      <td>v_002</td>\n",
       "      <td>CRF</td>\n",
       "      <td>Venlo</td>\n",
       "      <td>Paris</td>\n",
       "      <td>1684170</td>\n",
       "      <td>464</td>\n",
       "      <td>True</td>\n",
       "      <td>2029.5726</td>\n",
       "    </tr>\n",
       "    <tr>\n",
       "      <th>3</th>\n",
       "      <td>f5e98cb29790</td>\n",
       "      <td>Rotterdam</td>\n",
       "      <td>v_004</td>\n",
       "      <td>CRF</td>\n",
       "      <td>Lille</td>\n",
       "      <td>Milan</td>\n",
       "      <td>1620510</td>\n",
       "      <td>678</td>\n",
       "      <td>False</td>\n",
       "      <td>173.9644</td>\n",
       "    </tr>\n",
       "    <tr>\n",
       "      <th>4</th>\n",
       "      <td>a9e7c9bee35b</td>\n",
       "      <td>Barcelona</td>\n",
       "      <td>v_002</td>\n",
       "      <td>CRF</td>\n",
       "      <td>Venlo</td>\n",
       "      <td>Berlin</td>\n",
       "      <td>1699372</td>\n",
       "      <td>353</td>\n",
       "      <td>False</td>\n",
       "      <td>1153.4178</td>\n",
       "    </tr>\n",
       "  </tbody>\n",
       "</table>\n",
       "</div>"
      ],
      "text/plain": [
       "       order_id origin_port    3pl customs_procedures logistic_hub   customer  \\\n",
       "0  366c7a3d298f   Rotterdam  v_002                DTP        Venlo  Marseille   \n",
       "1  45f906331e10   Rotterdam  v_004                CRF         Rome  Marseille   \n",
       "2  ac84a6e4af0f      Athens  v_002                CRF        Venlo      Paris   \n",
       "3  f5e98cb29790   Rotterdam  v_004                CRF        Lille      Milan   \n",
       "4  a9e7c9bee35b   Barcelona  v_002                CRF        Venlo     Berlin   \n",
       "\n",
       "   product_id  units  late_order  dist_to_hub  \n",
       "0     1692723    583        True     130.0459  \n",
       "1     1644308    459       False    1269.2365  \n",
       "2     1684170    464        True    2029.5726  \n",
       "3     1620510    678       False     173.9644  \n",
       "4     1699372    353       False    1153.4178  "
      ]
     },
     "execution_count": 155,
     "metadata": {},
     "output_type": "execute_result"
    }
   ],
   "source": [
    "df_orders.head()"
   ]
  },
  {
   "cell_type": "markdown",
   "metadata": {
    "id": "QA-hqMHIdEFu"
   },
   "source": [
    "## Plottings"
   ]
  },
  {
   "cell_type": "code",
   "execution_count": 156,
   "metadata": {
    "id": "2rbAAsUkdFj0"
   },
   "outputs": [],
   "source": [
    "import matplotlib.pyplot as plt"
   ]
  },
  {
   "cell_type": "code",
   "execution_count": null,
   "metadata": {},
   "outputs": [],
   "source": []
  }
 ],
 "metadata": {
  "colab": {
   "collapsed_sections": [
    "QA-hqMHIdEFu"
   ],
   "provenance": []
  },
  "kernelspec": {
   "display_name": "Python 3 (ipykernel)",
   "language": "python",
   "name": "python3"
  },
  "language_info": {
   "codemirror_mode": {
    "name": "ipython",
    "version": 3
   },
   "file_extension": ".py",
   "mimetype": "text/x-python",
   "name": "python",
   "nbconvert_exporter": "python",
   "pygments_lexer": "ipython3",
   "version": "3.10.8"
  }
 },
 "nbformat": 4,
 "nbformat_minor": 1
}
